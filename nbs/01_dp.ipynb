{
 "cells": [
  {
   "cell_type": "code",
   "execution_count": null,
   "id": "c61065e2",
   "metadata": {},
   "outputs": [],
   "source": [
    "#| default_exp dp"
   ]
  },
  {
   "cell_type": "markdown",
   "id": "fb26e90e",
   "metadata": {},
   "source": [
    "# Dynamic Programming\n",
    "\n",
    ">It is used to speed up the program. Don't repeat if already calculated."
   ]
  },
  {
   "cell_type": "code",
   "execution_count": null,
   "id": "7e6fcb29",
   "metadata": {},
   "outputs": [],
   "source": [
    "#| hide\n",
    "from nbdev.showdoc import *"
   ]
  },
  {
   "cell_type": "code",
   "execution_count": null,
   "id": "c8cda226",
   "metadata": {},
   "outputs": [],
   "source": [
    "#| export\n",
    "def fibo(n):\n",
    "    if n<0:\n",
    "        return 0\n",
    "    if n==0 or n==1:\n",
    "        return n\n",
    "    return fibo(n-1)+fibo(n-2)"
   ]
  },
  {
   "cell_type": "code",
   "execution_count": null,
   "id": "ad82bc9f",
   "metadata": {},
   "outputs": [
    {
     "name": "stdout",
     "output_type": "stream",
     "text": [
      "55\n"
     ]
    }
   ],
   "source": [
    "print(fibo(10))"
   ]
  },
  {
   "cell_type": "code",
   "execution_count": null,
   "id": "69ebd38b",
   "metadata": {},
   "outputs": [],
   "source": [
    "#| export\n",
    "def fact(n):\n",
    "    if n==1:\n",
    "        return 1\n",
    "    return fact(n-1)*n"
   ]
  },
  {
   "cell_type": "code",
   "execution_count": null,
   "id": "af529f05",
   "metadata": {},
   "outputs": [
    {
     "name": "stdout",
     "output_type": "stream",
     "text": [
      "120\n"
     ]
    }
   ],
   "source": [
    "print(fact(5))"
   ]
  }
 ],
 "metadata": {
  "kernelspec": {
   "display_name": "Python 3 (ipykernel)",
   "language": "python",
   "name": "python3"
  }
 },
 "nbformat": 4,
 "nbformat_minor": 5
}
